{
 "cells": [
  {
   "cell_type": "markdown",
   "metadata": {
    "collapsed": true
   },
   "source": [
    "# Image Classification\n",
    "In this project, you'll classify images from the [CIFAR-10 dataset](https://www.cs.toronto.edu/~kriz/cifar.html).  The dataset consists of airplanes, dogs, cats, and other objects. You'll preprocess the images, then train a convolutional neural network on all the samples. The images need to be normalized and the labels need to be one-hot encoded.  You'll get to apply what you learned and build a convolutional, max pooling, dropout, and fully connected layers.  At the end, you'll get to see your neural network's predictions on the sample images.\n",
    "## Get the Data\n",
    "Run the following cell to download the [CIFAR-10 dataset for python](https://www.cs.toronto.edu/~kriz/cifar-10-python.tar.gz)."
   ]
  },
  {
   "cell_type": "code",
   "execution_count": 1,
   "metadata": {},
   "outputs": [
    {
     "name": "stdout",
     "output_type": "stream",
     "text": [
      "All files found!\n"
     ]
    }
   ],
   "source": [
    "\"\"\"\n",
    "DON'T MODIFY ANYTHING IN THIS CELL THAT IS BELOW THIS LINE\n",
    "\"\"\"\n",
    "from urllib.request import urlretrieve\n",
    "from os.path import isfile, isdir\n",
    "from tqdm import tqdm\n",
    "import problem_unittests as tests\n",
    "import tarfile\n",
    "\n",
    "cifar10_dataset_folder_path = 'cifar-10-batches-py'\n",
    "\n",
    "class DLProgress(tqdm):\n",
    "    last_block = 0\n",
    "\n",
    "    def hook(self, block_num=1, block_size=1, total_size=None):\n",
    "        self.total = total_size\n",
    "        self.update((block_num - self.last_block) * block_size)\n",
    "        self.last_block = block_num\n",
    "\n",
    "if not isfile('cifar-10-python.tar.gz'):\n",
    "    with DLProgress(unit='B', unit_scale=True, miniters=1, desc='CIFAR-10 Dataset') as pbar:\n",
    "        urlretrieve(\n",
    "            'https://www.cs.toronto.edu/~kriz/cifar-10-python.tar.gz',\n",
    "            'cifar-10-python.tar.gz',\n",
    "            pbar.hook)\n",
    "\n",
    "if not isdir(cifar10_dataset_folder_path):\n",
    "    with tarfile.open('cifar-10-python.tar.gz') as tar:\n",
    "        tar.extractall()\n",
    "        tar.close()\n",
    "\n",
    "\n",
    "tests.test_folder_path(cifar10_dataset_folder_path)"
   ]
  },
  {
   "cell_type": "markdown",
   "metadata": {},
   "source": [
    "## Explore the Data\n",
    "The dataset is broken into batches to prevent your machine from running out of memory.  The CIFAR-10 dataset consists of 5 batches, named `data_batch_1`, `data_batch_2`, etc.. Each batch contains the labels and images that are one of the following:\n",
    "* airplane\n",
    "* automobile\n",
    "* bird\n",
    "* cat\n",
    "* deer\n",
    "* dog\n",
    "* frog\n",
    "* horse\n",
    "* ship\n",
    "* truck\n",
    "\n",
    "Understanding a dataset is part of making predictions on the data.  Play around with the code cell below by changing the `batch_id` and `sample_id`. The `batch_id` is the id for a batch (1-5). The `sample_id` is the id for a image and label pair in the batch.\n",
    "\n",
    "Ask yourself \"What are all possible labels?\", \"What is the range of values for the image data?\", \"Are the labels in order or random?\".  Answers to questions like these will help you preprocess the data and end up with better predictions."
   ]
  },
  {
   "cell_type": "code",
   "execution_count": 2,
   "metadata": {},
   "outputs": [
    {
     "name": "stdout",
     "output_type": "stream",
     "text": [
      "\n",
      "Stats of batch 1:\n",
      "Samples: 10000\n",
      "Label Counts: {0: 1005, 1: 974, 2: 1032, 3: 1016, 4: 999, 5: 937, 6: 1030, 7: 1001, 8: 1025, 9: 981}\n",
      "First 20 Labels: [6, 9, 9, 4, 1, 1, 2, 7, 8, 3, 4, 7, 7, 2, 9, 9, 9, 3, 2, 6]\n",
      "\n",
      "Example of Image 5:\n",
      "Image - Min Value: 0 Max Value: 252\n",
      "Image - Shape: (32, 32, 3)\n",
      "Label - Label Id: 1 Name: automobile\n"
     ]
    },
    {
     "data": {
      "image/png": "[encoded data removed]",
      "text/plain": [
       "<matplotlib.figure.Figure at 0x24206bf52b0>"
      ]
     },
     "metadata": {
      "image/png": {
       "height": 250,
       "width": 253
      }
     },
     "output_type": "display_data"
    }
   ],
   "source": [
    "%matplotlib inline\n",
    "%config InlineBackend.figure_format = 'retina'\n",
    "\n",
    "import helper\n",
    "import numpy as np\n",
    "\n",
    "# Explore the dataset\n",
    "batch_id = 1\n",
    "sample_id = 5\n",
    "helper.display_stats(cifar10_dataset_folder_path, batch_id, sample_id)"
   ]
  },
  {
   "cell_type": "markdown",
   "metadata": {},
   "source": [
    "## Implement Preprocess Functions\n",
    "### Normalize\n",
    "In the cell below, implement the `normalize` function to take in image data, `x`, and return it as a normalized Numpy array. The values should be in the range of 0 to 1, inclusive.  The return object should be the same shape as `x`."
   ]
  },
  {
   "cell_type": "code",
   "execution_count": 3,
   "metadata": {},
   "outputs": [
    {
     "name": "stdout",
     "output_type": "stream",
     "text": [
      "Tests Passed\n"
     ]
    }
   ],
   "source": [
    "def normalize(x):\n",
    "    \"\"\"\n",
    "    Normalize a list of sample image data in the range of 0 to 1\n",
    "    : x: List of image data.  The image shape is (32, 32, 3)\n",
    "    : return: Numpy array of normalize data\n",
    "    \"\"\"\n",
    "    # TODO: Implement Function\n",
    "    current_min = 0\n",
    "    current_max = 255\n",
    "    x = (x - current_min) / (current_max - current_min)\n",
    "    return x\n",
    "\n",
    "\"\"\"\n",
    "DON'T MODIFY ANYTHING IN THIS CELL THAT IS BELOW THIS LINE\n",
    "\"\"\"\n",
    "tests.test_normalize(normalize)"
   ]
  },
  {
   "cell_type": "markdown",
   "metadata": {},
   "source": [
    "### One-hot encode\n",
    "Just like the previous code cell, you'll be implementing a function for preprocessing.  This time, you'll implement the `one_hot_encode` function. The input, `x`, are a list of labels.  Implement the function to return the list of labels as One-Hot encoded Numpy array.  The possible values for labels are 0 to 9. The one-hot encoding function should return the same encoding for each value between each call to `one_hot_encode`.  Make sure to save the map of encodings outside the function.\n",
    "\n",
    "Hint: Don't reinvent the wheel."
   ]
  },
  {
   "cell_type": "code",
   "execution_count": 4,
   "metadata": {},
   "outputs": [
    {
     "name": "stdout",
     "output_type": "stream",
     "text": [
      "Tests Passed\n"
     ]
    }
   ],
   "source": [
    "def one_hot_encode(x):\n",
    "    \"\"\"\n",
    "    One hot encode a list of sample labels. Return a one-hot encoded vector for each label.\n",
    "    : x: List of sample Labels\n",
    "    : return: Numpy array of one-hot encoded labels\n",
    "    \"\"\"\n",
    "    # TODO: Implement Function\n",
    "    from sklearn.preprocessing import LabelBinarizer\n",
    "    lb = LabelBinarizer()\n",
    "    lb.fit([0,1,2,3,4,5,6,7,8,9])\n",
    "    return lb.transform(x)\n",
    "\n",
    "\n",
    "\"\"\"\n",
    "DON'T MODIFY ANYTHING IN THIS CELL THAT IS BELOW THIS LINE\n",
    "\"\"\"\n",
    "tests.test_one_hot_encode(one_hot_encode)"
   ]
  },
  {
   "cell_type": "markdown",
   "metadata": {},
   "source": [
    "### Randomize Data\n",
    "As you saw from exploring the data above, the order of the samples are randomized.  It doesn't hurt to randomize it again, but you don't need to for this dataset."
   ]
  },
  {
   "cell_type": "markdown",
   "metadata": {},
   "source": [
    "## Preprocess all the data and save it\n",
    "Running the code cell below will preprocess all the CIFAR-10 data and save it to file. The code below also uses 10% of the training data for validation."
   ]
  },
  {
   "cell_type": "code",
   "execution_count": 5,
   "metadata": {
    "collapsed": true
   },
   "outputs": [],
   "source": [
    "\"\"\"\n",
    "DON'T MODIFY ANYTHING IN THIS CELL\n",
    "\"\"\"\n",
    "# Preprocess Training, Validation, and Testing Data\n",
    "helper.preprocess_and_save_data(cifar10_dataset_folder_path, normalize, one_hot_encode)"
   ]
  },
  {
   "cell_type": "markdown",
   "metadata": {},
   "source": [
    "# Check Point\n",
    "This is your first checkpoint.  If you ever decide to come back to this notebook or have to restart the notebook, you can start from here.  The preprocessed data has been saved to disk."
   ]
  },
  {
   "cell_type": "code",
   "execution_count": 6,
   "metadata": {
    "collapsed": true
   },
   "outputs": [],
   "source": [
    "\"\"\"\n",
    "DON'T MODIFY ANYTHING IN THIS CELL\n",
    "\"\"\"\n",
    "import pickle\n",
    "import problem_unittests as tests\n",
    "import helper\n",
    "\n",
    "# Load the Preprocessed Validation data\n",
    "valid_features, valid_labels = pickle.load(open('preprocess_validation.p', mode='rb'))"
   ]
  },
  {
   "cell_type": "markdown",
   "metadata": {},
   "source": [
    "## Build the network\n",
    "For the neural network, you'll build each layer into a function.  Most of the code you've seen has been outside of functions. To test your code more thoroughly, we require that you put each layer in a function.  This allows us to give you better feedback and test for simple mistakes using our unittests before you submit your project.\n",
    "\n",
    "If you're finding it hard to dedicate enough time for this course a week, we've provided a small shortcut to this part of the project. In the next couple of problems, you'll have the option to use [TensorFlow Layers](https://www.tensorflow.org/api_docs/python/tf/layers) or [TensorFlow Layers (contrib)](https://www.tensorflow.org/api_guides/python/contrib.layers) to build each layer, except \"Convolutional & Max Pooling\" layer.  TF Layers is similar to Keras's and TFLearn's abstraction to layers, so it's easy to pickup.\n",
    "\n",
    "If you would like to get the most of this course, try to solve all the problems without TF Layers.  Let's begin!\n",
    "### Input\n",
    "The neural network needs to read the image data, one-hot encoded labels, and dropout keep probability. Implement the following functions\n",
    "* Implement `neural_net_image_input`\n",
    " * Return a [TF Placeholder](https://www.tensorflow.org/api_docs/python/tf/placeholder)\n",
    " * Set the shape using `image_shape` with batch size set to `None`.\n",
    " * Name the TensorFlow placeholder \"x\" using the TensorFlow `name` parameter in the [TF Placeholder](https://www.tensorflow.org/api_docs/python/tf/placeholder).\n",
    "* Implement `neural_net_label_input`\n",
    " * Return a [TF Placeholder](https://www.tensorflow.org/api_docs/python/tf/placeholder)\n",
    " * Set the shape using `n_classes` with batch size set to `None`.\n",
    " * Name the TensorFlow placeholder \"y\" using the TensorFlow `name` parameter in the [TF Placeholder](https://www.tensorflow.org/api_docs/python/tf/placeholder).\n",
    "* Implement `neural_net_keep_prob_input`\n",
    " * Return a [TF Placeholder](https://www.tensorflow.org/api_docs/python/tf/placeholder) for dropout keep probability.\n",
    " * Name the TensorFlow placeholder \"keep_prob\" using the TensorFlow `name` parameter in the [TF Placeholder](https://www.tensorflow.org/api_docs/python/tf/placeholder).\n",
    "\n",
    "These names will be used at the end of the project to load your saved model.\n",
    "\n",
    "Note: `None` for shapes in TensorFlow allow for a dynamic size."
   ]
  },
  {
   "cell_type": "code",
   "execution_count": 7,
   "metadata": {},
   "outputs": [
    {
     "name": "stdout",
     "output_type": "stream",
     "text": [
      "Image Input Tests Passed.\n",
      "Label Input Tests Passed.\n",
      "Keep Prob Tests Passed.\n"
     ]
    }
   ],
   "source": [
    "import tensorflow as tf\n",
    "\n",
    "def neural_net_image_input(image_shape):\n",
    "    \"\"\"\n",
    "    Return a Tensor for a bach of image input\n",
    "    : image_shape: Shape of the images\n",
    "    : return: Tensor for image input.\n",
    "    \"\"\"\n",
    "    # TODO: Implement Function\n",
    "    x = tf.placeholder(tf.float32, [None, *image_shape], name = \"x\")\n",
    "    return x\n",
    "\n",
    "\n",
    "def neural_net_label_input(n_classes):\n",
    "    \"\"\"\n",
    "    Return a Tensor for a batch of label input\n",
    "    : n_classes: Number of classes\n",
    "    : return: Tensor for label input.\n",
    "    \"\"\"\n",
    "    # TODO: Implement Function\n",
    "    y = tf.placeholder(tf.float32, [None, n_classes], name = \"y\")\n",
    "    return y\n",
    "\n",
    "\n",
    "def neural_net_keep_prob_input():\n",
    "    \"\"\"\n",
    "    Return a Tensor for keep probability\n",
    "    : return: Tensor for keep probability.\n",
    "    \"\"\"\n",
    "    # TODO: Implement Function\n",
    "    keep_prob = tf.placeholder(tf.float32, name = \"keep_prob\")\n",
    "    return keep_prob\n",
    "\n",
    "\n",
    "\"\"\"\n",
    "DON'T MODIFY ANYTHING IN THIS CELL THAT IS BELOW THIS LINE\n",
    "\"\"\"\n",
    "tf.reset_default_graph()\n",
    "tests.test_nn_image_inputs(neural_net_image_input)\n",
    "tests.test_nn_label_inputs(neural_net_label_input)\n",
    "tests.test_nn_keep_prob_inputs(neural_net_keep_prob_input)"
   ]
  },
  {
   "cell_type": "markdown",
   "metadata": {},
   "source": [
    "### Convolution and Max Pooling Layer\n",
    "Convolution layers have a lot of success with images. For this code cell, you should implement the function `conv2d_maxpool` to apply convolution then max pooling:\n",
    "* Create the weight and bias using `conv_ksize`, `conv_num_outputs` and the shape of `x_tensor`.\n",
    "* Apply a convolution to `x_tensor` using weight and `conv_strides`.\n",
    " * We recommend you use same padding, but you're welcome to use any padding.\n",
    "* Add bias\n",
    "* Add a nonlinear activation to the convolution.\n",
    "* Apply Max Pooling using `pool_ksize` and `pool_strides`.\n",
    " * We recommend you use same padding, but you're welcome to use any padding.\n",
    "\n",
    "Note: You **can't** use [TensorFlow Layers](https://www.tensorflow.org/api_docs/python/tf/layers) or [TensorFlow Layers (contrib)](https://www.tensorflow.org/api_guides/python/contrib.layers) for this layer.  You're free to use any TensorFlow package for all the other layers."
   ]
  },
  {
   "cell_type": "code",
   "execution_count": 15,
   "metadata": {},
   "outputs": [],
   "source": [
    "def conv2d_maxpool(x_tensor, conv_num_outputs, conv_ksize, conv_strides,\n",
    "                   pool_ksize=(2, 2), pool_strides = (2, 2), do_mp = True, do_ap = False):\n",
    "    \"\"\"\n",
    "    Apply convolution then max pooling to x_tensor\n",
    "    :param x_tensor: TensorFlow Tensor\n",
    "    :param conv_num_outputs: Number of outputs for the convolutional layer\n",
    "    :param conv_strides: Stride 2-D Tuple for convolution\n",
    "    :param pool_ksize: kernal size 2-D Tuple for pool\n",
    "    :param pool_strides: Stride 2-D Tuple for pool\n",
    "    : return: A tensor that represents convolution and max pooling of x_tensor\n",
    "    \"\"\"\n",
    "    # TODO: Implement Function\n",
    "    weights = tf.Variable(tf.truncated_normal(\n",
    "        shape = [*conv_ksize, int(x_tensor.get_shape().dims[3]), conv_num_outputs], \n",
    "        mean = 0.0, \n",
    "        stddev=0.1, \n",
    "        dtype=tf.float32))\n",
    "    bias = tf.Variable(tf.zeros(conv_num_outputs)) \n",
    "    \n",
    "    conv_layer = tf.nn.conv2d(x_tensor, weights, strides=[1, *conv_strides, 1], padding='SAME')\n",
    "    conv_layer = tf.nn.bias_add(conv_layer, bias)\n",
    "    conv_layer = tf.nn.relu(conv_layer)\n",
    "    \n",
    "    if do_mp:\n",
    "        conv_layer = tf.nn.max_pool(conv_layer, ksize=[1, *pool_ksize, 1], strides=[1, *pool_strides, 1], padding='SAME')\n",
    "    if do_ap:\n",
    "        conv_layer = tf.nn.avg_pool(conv_layer, ksize=[1, *pool_ksize, 1], strides=[1, *pool_strides, 1], padding='SAME')\n",
    "    \n",
    "    return conv_layer\n",
    "\n"
   ]
  },
  {
   "cell_type": "markdown",
   "metadata": {},
   "source": [
    "### Flatten Layer\n",
    "Implement the `flatten` function to change the dimension of `x_tensor` from a 4-D tensor to a 2-D tensor.  The output should be the shape (*Batch Size*, *Flattened Image Size*). You can use [TensorFlow Layers](https://www.tensorflow.org/api_docs/python/tf/layers) or [TensorFlow Layers (contrib)](https://www.tensorflow.org/api_guides/python/contrib.layers) for this layer."
   ]
  },
  {
   "cell_type": "code",
   "execution_count": 10,
   "metadata": {},
   "outputs": [
    {
     "name": "stdout",
     "output_type": "stream",
     "text": [
      "Tests Passed\n"
     ]
    }
   ],
   "source": [
    "def flatten(x_tensor):\n",
    "    \"\"\"\n",
    "    Flatten x_tensor to (Batch Size, Flattened Image Size)\n",
    "    : x_tensor: A tensor of size (Batch Size, ...), where ... are the image dimensions.\n",
    "    : return: A tensor of size (Batch Size, Flattened Image Size).\n",
    "    \"\"\"\n",
    "    # TODO: Implement Function\n",
    "    from functools import reduce\n",
    "    return tf.reshape(x_tensor, [-1, reduce(lambda a,b: a*b, [int(x) for x in x_tensor.get_shape().dims[1:]])])\n",
    "\n",
    "\n",
    "\"\"\"\n",
    "DON'T MODIFY ANYTHING IN THIS CELL THAT IS BELOW THIS LINE\n",
    "\"\"\"\n",
    "tests.test_flatten(flatten)"
   ]
  },
  {
   "cell_type": "markdown",
   "metadata": {},
   "source": [
    "### Fully-Connected Layer\n",
    "Implement the `fully_conn` function to apply a fully connected layer to `x_tensor` with the shape (*Batch Size*, *num_outputs*). You can use [TensorFlow Layers](https://www.tensorflow.org/api_docs/python/tf/layers) or [TensorFlow Layers (contrib)](https://www.tensorflow.org/api_guides/python/contrib.layers) for this layer."
   ]
  },
  {
   "cell_type": "code",
   "execution_count": 11,
   "metadata": {},
   "outputs": [
    {
     "name": "stdout",
     "output_type": "stream",
     "text": [
      "Tests Passed\n"
     ]
    }
   ],
   "source": [
    "def fully_conn(x_tensor, num_outputs):\n",
    "    \"\"\"\n",
    "    Apply a fully connected layer to x_tensor using weight and bias\n",
    "    : x_tensor: A 2-D tensor where the first dimension is batch size.\n",
    "    : num_outputs: The number of output that the new tensor should be.\n",
    "    : return: A 2-D tensor where the second dimension is num_outputs.\n",
    "    \"\"\"\n",
    "    # TODO: Implement Function\n",
    "    \n",
    "    weights = tf.Variable(tf.truncated_normal(\n",
    "        shape =[int(x_tensor.get_shape().dims[1]), num_outputs],\n",
    "        mean = 0.0,\n",
    "        stddev=0.1))\n",
    "    bias = tf.Variable(tf.zeros(num_outputs)) \n",
    "    fc = tf.add(tf.matmul(x_tensor, weights), bias)\n",
    "    fc = tf.nn.relu(fc)\n",
    "\n",
    "    return fc\n",
    "\n",
    "\n",
    "\"\"\"\n",
    "DON'T MODIFY ANYTHING IN THIS CELL THAT IS BELOW THIS LINE\n",
    "\"\"\"\n",
    "tests.test_fully_conn(fully_conn)"
   ]
  },
  {
   "cell_type": "markdown",
   "metadata": {},
   "source": [
    "### Output Layer\n",
    "Implement the `output` function to apply a fully connected layer to `x_tensor` with the shape (*Batch Size*, *num_outputs*). You can use [TensorFlow Layers](https://www.tensorflow.org/api_docs/python/tf/layers) or [TensorFlow Layers (contrib)](https://www.tensorflow.org/api_guides/python/contrib.layers) for this layer.\n",
    "\n",
    "Note: Activation, softmax, or cross entropy shouldn't be applied to this."
   ]
  },
  {
   "cell_type": "code",
   "execution_count": 12,
   "metadata": {},
   "outputs": [
    {
     "name": "stdout",
     "output_type": "stream",
     "text": [
      "Tests Passed\n"
     ]
    }
   ],
   "source": [
    "def output(x_tensor, num_outputs):\n",
    "    \"\"\"\n",
    "    Apply a output layer to x_tensor using weight and bias\n",
    "    : x_tensor: A 2-D tensor where the first dimension is batch size.\n",
    "    : num_outputs: The number of output that the new tensor should be.\n",
    "    : return: A 2-D tensor where the second dimension is num_outputs.\n",
    "    \"\"\"\n",
    "    # TODO: Implement Function\n",
    "    weights = tf.Variable(tf.truncated_normal(\n",
    "        shape = [int(x_tensor.get_shape().dims[1]), num_outputs],\n",
    "        mean = 0.0,\n",
    "        stddev=0.1))\n",
    "    bias = tf.Variable(tf.zeros(num_outputs)) \n",
    "    out = tf.add(tf.matmul(x_tensor, weights), bias)\n",
    "    return out\n",
    "\n",
    "\n",
    "\n",
    "\"\"\"\n",
    "DON'T MODIFY ANYTHING IN THIS CELL THAT IS BELOW THIS LINE\n",
    "\"\"\"\n",
    "tests.test_output(output)"
   ]
  },
  {
   "cell_type": "markdown",
   "metadata": {},
   "source": [
    "### Create Convolutional Model\n",
    "Implement the function `conv_net` to create a convolutional neural network model. The function takes in a batch of images, `x`, and outputs logits.  Use the layers you created above to create this model:\n",
    "\n",
    "* Apply 1, 2, or 3 Convolution and Max Pool layers\n",
    "* Apply a Flatten Layer\n",
    "* Apply 1, 2, or 3 Fully Connected Layers\n",
    "* Apply an Output Layer\n",
    "* Return the output\n",
    "* Apply [TensorFlow's Dropout](https://www.tensorflow.org/api_docs/python/tf/nn/dropout) to one or more layers in the model using `keep_prob`. "
   ]
  },
  {
   "cell_type": "code",
   "execution_count": 25,
   "metadata": {},
   "outputs": [],
   "source": [
    "def conv_net(x, keep_prob, is_training = True):\n",
    "    \"\"\"\n",
    "    Create a convolutional neural network model\n",
    "    : x: Placeholder tensor that holds image data.\n",
    "    : keep_prob: Placeholder tensor that hold dropout keep probability.\n",
    "    : return: Tensor that represents logits\n",
    "    \"\"\"\n",
    "    # TODO: Apply 1, 2, or 3 Convolution and Max Pool layers\n",
    "    #    Play around with different number of outputs, kernel size and stride\n",
    "    # Function Definition from Above:\n",
    "    #    conv2d_maxpool(x_tensor, conv_num_outputs, conv_ksize, conv_strides, pool_ksize, pool_strides)\n",
    "    \n",
    "    conv_inc1 = conv2d_maxpool(x, 32, (5, 5), (1, 1), do_mp = False)\n",
    "    conv_inc2 = conv2d_maxpool(x, 32, (3, 3), (1, 1), do_mp = False)\n",
    "    conv_inc3 = conv2d_maxpool(x, 32, (1, 1), (1, 1), do_mp = False)\n",
    "    conv_inception = tf.concat((conv_inc1, conv_inc2 ,conv_inc3), axis = 1)\n",
    "    bn1 = tf.layers.batch_normalization(conv_inception, training=is_training)\n",
    "                   \n",
    "    conv2 = conv2d_maxpool(bn1, 32, (6, 6), (1, 1), do_mp = True)\n",
    "    bn2 = tf.layers.batch_normalization(conv2, training=is_training)\n",
    "    conv3 = conv2d_maxpool(bn2, 64, (4, 4), (1, 1), do_mp = True)\n",
    "    bn3 = tf.layers.batch_normalization(conv3, training=is_training)\n",
    "    conv4 = conv2d_maxpool(bn3, 128, (2, 2), (1, 1), do_mp = True)\n",
    "    bn4 = tf.layers.batch_normalization(conv4, training=is_training)\n",
    "    conv5 = conv2d_maxpool(bn4, 256, (1, 1), (1, 1), do_mp = False)\n",
    "    # TODO: Apply a Flatten Layer\n",
    "    # Function Definition from Above:\n",
    "    #   flatten(x_tensor)\n",
    "    \n",
    "    flat = flatten(conv5)\n",
    "\n",
    "    # TODO: Apply 1, 2, or 3 Fully Connected Layers\n",
    "    #    Play around with different number of outputs\n",
    "    # Function Definition from Above:\n",
    "    #   fully_conn(x_tensor, num_outputs)\n",
    "    \n",
    "    fc = fully_conn(flat, 4096)\n",
    "    fc = tf.nn.dropout(fc, keep_prob)\n",
    "    fc = fully_conn(fc, 1024)\n",
    "    fc = tf.nn.dropout(fc, keep_prob)\n",
    "    \n",
    "    # TODO: Apply an Output Layer\n",
    "    #    Set this to the number of classes\n",
    "    # Function Definition from Above:\n",
    "    #   output(x_tensor, num_outputs)\n",
    "    out = output(fc, 10)\n",
    "    \n",
    "    # TODO: return output\n",
    "    return out\n",
    "\n",
    "\n",
    "\"\"\"\n",
    "DON'T MODIFY ANYTHING IN THIS CELL THAT IS BELOW THIS LINE\n",
    "\"\"\"\n",
    "\n",
    "##############################\n",
    "## Build the Neural Network ##\n",
    "##############################\n",
    "\n",
    "# Remove previous weights, bias, inputs, etc..\n",
    "tf.reset_default_graph()\n",
    "\n",
    "# Inputs\n",
    "x = neural_net_image_input((32, 32, 3))\n",
    "y = neural_net_label_input(10)\n",
    "keep_prob = neural_net_keep_prob_input()\n",
    "is_training = tf.placeholder(tf.bool, name = \"training\")\n",
    "# Model\n",
    "logits = conv_net(x, keep_prob, is_training)\n",
    "\n",
    "# Name logits Tensor, so that is can be loaded from disk after training\n",
    "logits = tf.identity(logits, name='logits')\n",
    "\n",
    "# Loss and Optimizer\n",
    "cost = tf.reduce_mean(tf.nn.softmax_cross_entropy_with_logits(logits=logits, labels=y))\n",
    "with tf.control_dependencies(tf.get_collection(tf.GraphKeys.UPDATE_OPS)): \n",
    "    optimizer = tf.train.AdamOptimizer(beta1 = 0.5).minimize(cost)\n",
    "\n",
    "# Accuracy\n",
    "correct_pred = tf.equal(tf.argmax(logits, 1), tf.argmax(y, 1))\n",
    "accuracy = tf.reduce_mean(tf.cast(correct_pred, tf.float32), name='accuracy')\n",
    "\n",
    "#tests.test_conv_net(conv_net)"
   ]
  },
  {
   "cell_type": "markdown",
   "metadata": {},
   "source": [
    "## Train the Neural Network\n",
    "### Single Optimization\n",
    "Implement the function `train_neural_network` to do a single optimization.  The optimization should use `optimizer` to optimize in `session` with a `feed_dict` of the following:\n",
    "* `x` for image input\n",
    "* `y` for labels\n",
    "* `keep_prob` for keep probability for dropout\n",
    "\n",
    "This function will be called for each batch, so `tf.global_variables_initializer()` has already been called.\n",
    "\n",
    "Note: Nothing needs to be returned. This function is only optimizing the neural network."
   ]
  },
  {
   "cell_type": "code",
   "execution_count": 26,
   "metadata": {},
   "outputs": [
    {
     "name": "stdout",
     "output_type": "stream",
     "text": [
      "Tests Passed\n"
     ]
    }
   ],
   "source": [
    "def train_neural_network(session, optimizer, keep_probability, feature_batch, label_batch):\n",
    "    \"\"\"\n",
    "    Optimize the session on a batch of images and labels\n",
    "    : session: Current TensorFlow session\n",
    "    : optimizer: TensorFlow optimizer function\n",
    "    : keep_probability: keep probability\n",
    "    : feature_batch: Batch of Numpy image data\n",
    "    : label_batch: Batch of Numpy label data\n",
    "    \"\"\"\n",
    "    # TODO: Implement Function \n",
    "    session.run([optimizer],\n",
    "                feed_dict={x : feature_batch, y : label_batch, keep_prob : keep_probability, is_training: True})\n",
    "\n",
    "\n",
    "\n",
    "\"\"\"\n",
    "DON'T MODIFY ANYTHING IN THIS CELL THAT IS BELOW THIS LINE\n",
    "\"\"\"\n",
    "tests.test_train_nn(train_neural_network)"
   ]
  },
  {
   "cell_type": "markdown",
   "metadata": {},
   "source": [
    "### Show Stats\n",
    "Implement the function `print_stats` to print loss and validation accuracy.  Use the global variables `valid_features` and `valid_labels` to calculate validation accuracy.  Use a keep probability of `1.0` to calculate the loss and validation accuracy."
   ]
  },
  {
   "cell_type": "code",
   "execution_count": 27,
   "metadata": {
    "collapsed": true
   },
   "outputs": [],
   "source": [
    "def print_stats(session, feature_batch, label_batch, cost, accuracy):\n",
    "    \"\"\"\n",
    "    Print information about loss and validation accuracy\n",
    "    : session: Current TensorFlow session\n",
    "    : feature_batch: Batch of Numpy image data\n",
    "    : label_batch: Batch of Numpy label data\n",
    "    : cost: TensorFlow cost function\n",
    "    : accuracy: TensorFlow accuracy function\n",
    "    \"\"\"\n",
    "    # TODO: Implement Function\n",
    "\n",
    "    curr_accuracy, curr_cost = session.run([accuracy, cost],\n",
    "                                           feed_dict={x : feature_batch, y : label_batch, keep_prob : 1.0, is_training: False})\n",
    "    \n",
    "    print('Accuracy:  {acc}         Cost:  {cost}'.format(acc = curr_accuracy, cost = curr_cost))"
   ]
  },
  {
   "cell_type": "markdown",
   "metadata": {},
   "source": [
    "### Hyperparameters\n",
    "Tune the following parameters:\n",
    "* Set `epochs` to the number of iterations until the network stops learning or start overfitting\n",
    "* Set `batch_size` to the highest number that your machine has memory for.  Most people set them to common sizes of memory:\n",
    " * 64\n",
    " * 128\n",
    " * 256\n",
    " * ...\n",
    "* Set `keep_probability` to the probability of keeping a node using dropout"
   ]
  },
  {
   "cell_type": "code",
   "execution_count": 28,
   "metadata": {
    "collapsed": true
   },
   "outputs": [],
   "source": [
    "# TODO: Tune Parameters\n",
    "epochs = 30\n",
    "batch_size = 256\n",
    "keep_probability = 0.5"
   ]
  },
  {
   "cell_type": "markdown",
   "metadata": {},
   "source": [
    "### Train on a Single CIFAR-10 Batch\n",
    "Instead of training the neural network on all the CIFAR-10 batches of data, let's use a single batch. This should save time while you iterate on the model to get a better accuracy.  Once the final validation accuracy is 50% or greater, run the model on all the data in the next section."
   ]
  },
  {
   "cell_type": "code",
   "execution_count": 31,
   "metadata": {},
   "outputs": [
    {
     "name": "stdout",
     "output_type": "stream",
     "text": [
      "Checking the Training on a Single Batch...\n",
      "Epoch  1, CIFAR-10 Batch 1:  Accuracy:  0.17500001192092896         Cost:  3.207479953765869\n",
      "Epoch  2, CIFAR-10 Batch 1:  Accuracy:  0.17499999701976776         Cost:  2.424532413482666\n",
      "Epoch  3, CIFAR-10 Batch 1:  Accuracy:  0.07500000298023224         Cost:  2.2930424213409424\n",
      "Epoch  4, CIFAR-10 Batch 1:  Accuracy:  0.125         Cost:  2.2976346015930176\n",
      "Epoch  5, CIFAR-10 Batch 1:  Accuracy:  0.15000000596046448         Cost:  2.2917652130126953\n",
      "Epoch  6, CIFAR-10 Batch 1:  Accuracy:  0.15000000596046448         Cost:  2.2928473949432373\n",
      "Epoch  7, CIFAR-10 Batch 1:  Accuracy:  0.17499999701976776         Cost:  2.259230613708496\n",
      "Epoch  8, CIFAR-10 Batch 1:  Accuracy:  0.125         Cost:  2.233882188796997\n",
      "Epoch  9, CIFAR-10 Batch 1:  Accuracy:  0.15000000596046448         Cost:  2.1990199089050293\n",
      "Epoch 10, CIFAR-10 Batch 1:  Accuracy:  0.125         Cost:  2.1513657569885254\n",
      "Epoch 11, CIFAR-10 Batch 1:  Accuracy:  0.15000000596046448         Cost:  2.136033296585083\n",
      "Epoch 12, CIFAR-10 Batch 1:  Accuracy:  0.25         Cost:  2.0710647106170654\n",
      "Epoch 13, CIFAR-10 Batch 1:  Accuracy:  0.25         Cost:  2.0440587997436523\n",
      "Epoch 14, CIFAR-10 Batch 1:  Accuracy:  0.25         Cost:  1.9963518381118774\n",
      "Epoch 15, CIFAR-10 Batch 1:  Accuracy:  0.32500001788139343         Cost:  1.8889861106872559\n",
      "Epoch 16, CIFAR-10 Batch 1:  Accuracy:  0.3999999761581421         Cost:  1.7980866432189941\n",
      "Epoch 17, CIFAR-10 Batch 1:  Accuracy:  0.375         Cost:  1.8010566234588623\n",
      "Epoch 18, CIFAR-10 Batch 1:  Accuracy:  0.44999998807907104         Cost:  1.683107614517212\n",
      "Epoch 19, CIFAR-10 Batch 1:  Accuracy:  0.42499998211860657         Cost:  1.658104419708252\n",
      "Epoch 20, CIFAR-10 Batch 1:  Accuracy:  0.5249999761581421         Cost:  1.5639759302139282\n",
      "Epoch 21, CIFAR-10 Batch 1:  Accuracy:  0.5250000357627869         Cost:  1.5043762922286987\n",
      "Epoch 22, CIFAR-10 Batch 1:  Accuracy:  0.4749999940395355         Cost:  1.5332504510879517\n",
      "Epoch 23, CIFAR-10 Batch 1:  Accuracy:  0.5         Cost:  1.3557884693145752\n",
      "Epoch 24, CIFAR-10 Batch 1:  Accuracy:  0.625         Cost:  1.2916820049285889\n",
      "Epoch 25, CIFAR-10 Batch 1:  Accuracy:  0.5750000476837158         Cost:  1.2430574893951416\n",
      "Epoch 26, CIFAR-10 Batch 1:  Accuracy:  0.625         Cost:  1.2838807106018066\n",
      "Epoch 27, CIFAR-10 Batch 1:  Accuracy:  0.625         Cost:  1.1706875562667847\n",
      "Epoch 28, CIFAR-10 Batch 1:  Accuracy:  0.625         Cost:  1.1105767488479614\n",
      "Epoch 29, CIFAR-10 Batch 1:  Accuracy:  0.7000000476837158         Cost:  1.0663455724716187\n",
      "Epoch 30, CIFAR-10 Batch 1:  Accuracy:  0.7250000238418579         Cost:  1.0495593547821045\n"
     ]
    }
   ],
   "source": [
    "\"\"\"\n",
    "DON'T MODIFY ANYTHING IN THIS CELL\n",
    "\"\"\"\n",
    "print('Checking the Training on a Single Batch...')\n",
    "with tf.Session() as sess:\n",
    "    # Initializing the variables\n",
    "    sess.run(tf.global_variables_initializer())\n",
    "    \n",
    "    # Training cycle\n",
    "    for epoch in range(epochs):\n",
    "        batch_i = 1\n",
    "        for batch_features, batch_labels in helper.load_preprocess_training_batch(batch_i, batch_size):\n",
    "            train_neural_network(sess, optimizer, keep_probability, batch_features, batch_labels)\n",
    "        print('Epoch {:>2}, CIFAR-10 Batch {}:  '.format(epoch + 1, batch_i), end='')\n",
    "        print_stats(sess, batch_features, batch_labels, cost, accuracy)"
   ]
  },
  {
   "cell_type": "markdown",
   "metadata": {},
   "source": [
    "### Fully Train the Model\n",
    "Now that you got a good accuracy with a single CIFAR-10 batch, try it with all five batches."
   ]
  },
  {
   "cell_type": "code",
   "execution_count": 29,
   "metadata": {},
   "outputs": [
    {
     "name": "stdout",
     "output_type": "stream",
     "text": [
      "Training...\n",
      "Epoch  1, CIFAR-10 Batch 1:  Accuracy:  0.07500000298023224         Cost:  3.592578172683716\n",
      "Epoch  1, CIFAR-10 Batch 2:  Accuracy:  0.05000000074505806         Cost:  2.349132537841797\n",
      "Epoch  1, CIFAR-10 Batch 3:  Accuracy:  0.05000000074505806         Cost:  2.4332966804504395\n",
      "Epoch  1, CIFAR-10 Batch 4:  Accuracy:  0.07500000298023224         Cost:  2.571789503097534\n",
      "Epoch  1, CIFAR-10 Batch 5:  Accuracy:  0.10000000149011612         Cost:  2.3343746662139893\n",
      "Epoch  2, CIFAR-10 Batch 1:  Accuracy:  0.10000000149011612         Cost:  2.438042402267456\n",
      "Epoch  2, CIFAR-10 Batch 2:  Accuracy:  0.10000000149011612         Cost:  2.295229434967041\n",
      "Epoch  2, CIFAR-10 Batch 3:  Accuracy:  0.125         Cost:  2.149742364883423\n",
      "Epoch  2, CIFAR-10 Batch 4:  Accuracy:  0.17500001192092896         Cost:  2.083993673324585\n",
      "Epoch  2, CIFAR-10 Batch 5:  Accuracy:  0.07500000298023224         Cost:  2.3472909927368164\n",
      "Epoch  3, CIFAR-10 Batch 1:  Accuracy:  0.15000000596046448         Cost:  2.261333465576172\n",
      "Epoch  3, CIFAR-10 Batch 2:  Accuracy:  0.10000000149011612         Cost:  2.07643723487854\n",
      "Epoch  3, CIFAR-10 Batch 3:  Accuracy:  0.125         Cost:  1.8563001155853271\n",
      "Epoch  3, CIFAR-10 Batch 4:  Accuracy:  0.2750000059604645         Cost:  1.8607144355773926\n",
      "Epoch  3, CIFAR-10 Batch 5:  Accuracy:  0.25         Cost:  1.8948359489440918\n",
      "Epoch  4, CIFAR-10 Batch 1:  Accuracy:  0.2750000059604645         Cost:  2.024919271469116\n",
      "Epoch  4, CIFAR-10 Batch 2:  Accuracy:  0.375         Cost:  1.8355762958526611\n",
      "Epoch  4, CIFAR-10 Batch 3:  Accuracy:  0.375         Cost:  1.5930383205413818\n",
      "Epoch  4, CIFAR-10 Batch 4:  Accuracy:  0.32500001788139343         Cost:  1.7247800827026367\n",
      "Epoch  4, CIFAR-10 Batch 5:  Accuracy:  0.3500000238418579         Cost:  1.6672210693359375\n",
      "Epoch  5, CIFAR-10 Batch 1:  Accuracy:  0.32499998807907104         Cost:  1.8165807723999023\n",
      "Epoch  5, CIFAR-10 Batch 2:  Accuracy:  0.40000003576278687         Cost:  1.7532258033752441\n",
      "Epoch  5, CIFAR-10 Batch 3:  Accuracy:  0.42500001192092896         Cost:  1.4888402223587036\n",
      "Epoch  5, CIFAR-10 Batch 4:  Accuracy:  0.3750000298023224         Cost:  1.5769118070602417\n",
      "Epoch  5, CIFAR-10 Batch 5:  Accuracy:  0.42500001192092896         Cost:  1.5869390964508057\n",
      "Epoch  6, CIFAR-10 Batch 1:  Accuracy:  0.44999998807907104         Cost:  1.6556694507598877\n",
      "Epoch  6, CIFAR-10 Batch 2:  Accuracy:  0.42500001192092896         Cost:  1.6615229845046997\n",
      "Epoch  6, CIFAR-10 Batch 3:  Accuracy:  0.5000000596046448         Cost:  1.4062724113464355\n",
      "Epoch  6, CIFAR-10 Batch 4:  Accuracy:  0.4000000059604645         Cost:  1.458080530166626\n",
      "Epoch  6, CIFAR-10 Batch 5:  Accuracy:  0.4000000059604645         Cost:  1.5113797187805176\n",
      "Epoch  7, CIFAR-10 Batch 1:  Accuracy:  0.4749999940395355         Cost:  1.5585322380065918\n",
      "Epoch  7, CIFAR-10 Batch 2:  Accuracy:  0.45000001788139343         Cost:  1.5763804912567139\n",
      "Epoch  7, CIFAR-10 Batch 3:  Accuracy:  0.550000011920929         Cost:  1.2648900747299194\n",
      "Epoch  7, CIFAR-10 Batch 4:  Accuracy:  0.42500001192092896         Cost:  1.3800404071807861\n",
      "Epoch  7, CIFAR-10 Batch 5:  Accuracy:  0.42500001192092896         Cost:  1.4133051633834839\n",
      "Epoch  8, CIFAR-10 Batch 1:  Accuracy:  0.574999988079071         Cost:  1.5069613456726074\n",
      "Epoch  8, CIFAR-10 Batch 2:  Accuracy:  0.574999988079071         Cost:  1.3521515130996704\n",
      "Epoch  8, CIFAR-10 Batch 3:  Accuracy:  0.5249999761581421         Cost:  1.1031049489974976\n",
      "Epoch  8, CIFAR-10 Batch 4:  Accuracy:  0.5250000357627869         Cost:  1.2621692419052124\n",
      "Epoch  8, CIFAR-10 Batch 5:  Accuracy:  0.4750000238418579         Cost:  1.7359739542007446\n",
      "Epoch  9, CIFAR-10 Batch 1:  Accuracy:  0.6000000238418579         Cost:  1.3322221040725708\n",
      "Epoch  9, CIFAR-10 Batch 2:  Accuracy:  0.5         Cost:  1.3773386478424072\n",
      "Epoch  9, CIFAR-10 Batch 3:  Accuracy:  0.6000000238418579         Cost:  0.9689638614654541\n",
      "Epoch  9, CIFAR-10 Batch 4:  Accuracy:  0.5         Cost:  1.2144652605056763\n",
      "Epoch  9, CIFAR-10 Batch 5:  Accuracy:  0.574999988079071         Cost:  1.2420607805252075\n",
      "Epoch 10, CIFAR-10 Batch 1:  Accuracy:  0.625         Cost:  1.1443551778793335\n",
      "Epoch 10, CIFAR-10 Batch 2:  Accuracy:  0.6000000238418579         Cost:  1.1908888816833496\n",
      "Epoch 10, CIFAR-10 Batch 3:  Accuracy:  0.6499999761581421         Cost:  0.9354994893074036\n",
      "Epoch 10, CIFAR-10 Batch 4:  Accuracy:  0.574999988079071         Cost:  1.034391164779663\n",
      "Epoch 10, CIFAR-10 Batch 5:  Accuracy:  0.4750000238418579         Cost:  1.2715675830841064\n",
      "Epoch 11, CIFAR-10 Batch 1:  Accuracy:  0.6750000715255737         Cost:  0.9855501651763916\n",
      "Epoch 11, CIFAR-10 Batch 2:  Accuracy:  0.6499999761581421         Cost:  0.9948897361755371\n",
      "Epoch 11, CIFAR-10 Batch 3:  Accuracy:  0.800000011920929         Cost:  0.7780601978302002\n",
      "Epoch 11, CIFAR-10 Batch 4:  Accuracy:  0.7750000357627869         Cost:  0.881489634513855\n",
      "Epoch 11, CIFAR-10 Batch 5:  Accuracy:  0.6749999523162842         Cost:  1.048903226852417\n",
      "Epoch 12, CIFAR-10 Batch 1:  Accuracy:  0.7000000476837158         Cost:  0.9583102464675903\n",
      "Epoch 12, CIFAR-10 Batch 2:  Accuracy:  0.7000000476837158         Cost:  0.9893978834152222\n",
      "Epoch 12, CIFAR-10 Batch 3:  Accuracy:  0.7250000238418579         Cost:  0.6574509739875793\n",
      "Epoch 12, CIFAR-10 Batch 4:  Accuracy:  0.7750000357627869         Cost:  0.8284573554992676\n",
      "Epoch 12, CIFAR-10 Batch 5:  Accuracy:  0.625         Cost:  1.0786224603652954\n",
      "Epoch 13, CIFAR-10 Batch 1:  Accuracy:  0.6500000357627869         Cost:  1.226454257965088\n",
      "Epoch 13, CIFAR-10 Batch 2:  Accuracy:  0.7000000476837158         Cost:  0.7735328674316406\n",
      "Epoch 13, CIFAR-10 Batch 3:  Accuracy:  0.75         Cost:  0.7256237268447876\n",
      "Epoch 13, CIFAR-10 Batch 4:  Accuracy:  0.75         Cost:  0.7925137281417847\n",
      "Epoch 13, CIFAR-10 Batch 5:  Accuracy:  0.75         Cost:  0.8360738754272461\n",
      "Epoch 14, CIFAR-10 Batch 1:  Accuracy:  0.7250000238418579         Cost:  0.8373953700065613\n",
      "Epoch 14, CIFAR-10 Batch 2:  Accuracy:  0.625         Cost:  1.333939790725708\n",
      "Epoch 14, CIFAR-10 Batch 3:  Accuracy:  0.7250000238418579         Cost:  0.5740153789520264\n",
      "Epoch 14, CIFAR-10 Batch 4:  Accuracy:  0.7749999761581421         Cost:  0.8254457712173462\n",
      "Epoch 14, CIFAR-10 Batch 5:  Accuracy:  0.7999999523162842         Cost:  0.74932861328125\n",
      "Epoch 15, CIFAR-10 Batch 1:  Accuracy:  0.6749999523162842         Cost:  0.8397203087806702\n",
      "Epoch 15, CIFAR-10 Batch 2:  Accuracy:  0.7250000238418579         Cost:  0.769225001335144\n",
      "Epoch 15, CIFAR-10 Batch 3:  Accuracy:  0.7250000238418579         Cost:  0.6082351207733154\n",
      "Epoch 15, CIFAR-10 Batch 4:  Accuracy:  0.7749999761581421         Cost:  0.6049637794494629\n",
      "Epoch 15, CIFAR-10 Batch 5:  Accuracy:  0.9000000357627869         Cost:  0.6186355352401733\n",
      "Epoch 16, CIFAR-10 Batch 1:  Accuracy:  0.800000011920929         Cost:  0.6762593984603882\n",
      "Epoch 16, CIFAR-10 Batch 2:  Accuracy:  0.7250000238418579         Cost:  0.8188391923904419\n",
      "Epoch 16, CIFAR-10 Batch 3:  Accuracy:  0.8500000238418579         Cost:  0.40273961424827576\n",
      "Epoch 16, CIFAR-10 Batch 4:  Accuracy:  0.7250000238418579         Cost:  0.6608486175537109\n",
      "Epoch 16, CIFAR-10 Batch 5:  Accuracy:  0.925000011920929         Cost:  0.5695714950561523\n",
      "Epoch 17, CIFAR-10 Batch 1:  Accuracy:  0.6000000238418579         Cost:  0.8615273833274841\n",
      "Epoch 17, CIFAR-10 Batch 2:  Accuracy:  0.7250000238418579         Cost:  0.8302139043807983\n",
      "Epoch 17, CIFAR-10 Batch 3:  Accuracy:  0.9000000357627869         Cost:  0.40019869804382324\n",
      "Epoch 17, CIFAR-10 Batch 4:  Accuracy:  0.8500000238418579         Cost:  0.47403407096862793\n",
      "Epoch 17, CIFAR-10 Batch 5:  Accuracy:  0.949999988079071         Cost:  0.43330055475234985\n",
      "Epoch 18, CIFAR-10 Batch 1:  Accuracy:  0.875         Cost:  0.6463189125061035\n",
      "Epoch 18, CIFAR-10 Batch 2:  Accuracy:  0.800000011920929         Cost:  0.46644890308380127\n",
      "Epoch 18, CIFAR-10 Batch 3:  Accuracy:  0.949999988079071         Cost:  0.2957385778427124\n",
      "Epoch 18, CIFAR-10 Batch 4:  Accuracy:  0.75         Cost:  0.5041804909706116\n",
      "Epoch 18, CIFAR-10 Batch 5:  Accuracy:  0.949999988079071         Cost:  0.41302913427352905\n"
     ]
    },
    {
     "name": "stdout",
     "output_type": "stream",
     "text": [
      "Epoch 19, CIFAR-10 Batch 1:  Accuracy:  0.8750000596046448         Cost:  0.4749740958213806\n",
      "Epoch 19, CIFAR-10 Batch 2:  Accuracy:  0.8250000476837158         Cost:  0.4830319285392761\n",
      "Epoch 19, CIFAR-10 Batch 3:  Accuracy:  0.925000011920929         Cost:  0.2404370903968811\n",
      "Epoch 19, CIFAR-10 Batch 4:  Accuracy:  0.9000000357627869         Cost:  0.31147050857543945\n",
      "Epoch 19, CIFAR-10 Batch 5:  Accuracy:  0.949999988079071         Cost:  0.37140530347824097\n",
      "Epoch 20, CIFAR-10 Batch 1:  Accuracy:  0.800000011920929         Cost:  0.5219051241874695\n",
      "Epoch 20, CIFAR-10 Batch 2:  Accuracy:  0.8000000715255737         Cost:  0.4006569981575012\n",
      "Epoch 20, CIFAR-10 Batch 3:  Accuracy:  0.925000011920929         Cost:  0.2583611011505127\n",
      "Epoch 20, CIFAR-10 Batch 4:  Accuracy:  0.949999988079071         Cost:  0.3033073842525482\n",
      "Epoch 20, CIFAR-10 Batch 5:  Accuracy:  0.9750000238418579         Cost:  0.31054866313934326\n",
      "Epoch 21, CIFAR-10 Batch 1:  Accuracy:  0.800000011920929         Cost:  0.40324750542640686\n",
      "Epoch 21, CIFAR-10 Batch 2:  Accuracy:  0.7749999761581421         Cost:  0.40856853127479553\n",
      "Epoch 21, CIFAR-10 Batch 3:  Accuracy:  0.9749999642372131         Cost:  0.19862471520900726\n",
      "Epoch 21, CIFAR-10 Batch 4:  Accuracy:  0.875         Cost:  0.32892942428588867\n",
      "Epoch 21, CIFAR-10 Batch 5:  Accuracy:  0.9500000476837158         Cost:  0.30522391200065613\n",
      "Epoch 22, CIFAR-10 Batch 1:  Accuracy:  0.925000011920929         Cost:  0.3691891133785248\n",
      "Epoch 22, CIFAR-10 Batch 2:  Accuracy:  0.8999999761581421         Cost:  0.2851462960243225\n",
      "Epoch 22, CIFAR-10 Batch 3:  Accuracy:  0.9749999642372131         Cost:  0.17634913325309753\n",
      "Epoch 22, CIFAR-10 Batch 4:  Accuracy:  0.9000000357627869         Cost:  0.312346875667572\n",
      "Epoch 22, CIFAR-10 Batch 5:  Accuracy:  1.0         Cost:  0.21100950241088867\n",
      "Epoch 23, CIFAR-10 Batch 1:  Accuracy:  0.9000000357627869         Cost:  0.31925567984580994\n",
      "Epoch 23, CIFAR-10 Batch 2:  Accuracy:  0.875         Cost:  0.29253631830215454\n",
      "Epoch 23, CIFAR-10 Batch 3:  Accuracy:  0.949999988079071         Cost:  0.17992466688156128\n",
      "Epoch 23, CIFAR-10 Batch 4:  Accuracy:  0.9749999642372131         Cost:  0.22657270729541779\n",
      "Epoch 23, CIFAR-10 Batch 5:  Accuracy:  0.9750000238418579         Cost:  0.15915508568286896\n",
      "Epoch 24, CIFAR-10 Batch 1:  Accuracy:  1.0         Cost:  0.2176714539527893\n",
      "Epoch 24, CIFAR-10 Batch 2:  Accuracy:  0.875         Cost:  0.31016597151756287\n",
      "Epoch 24, CIFAR-10 Batch 3:  Accuracy:  0.949999988079071         Cost:  0.210866779088974\n",
      "Epoch 24, CIFAR-10 Batch 4:  Accuracy:  0.925000011920929         Cost:  0.21111497282981873\n",
      "Epoch 24, CIFAR-10 Batch 5:  Accuracy:  1.0         Cost:  0.14476238191127777\n",
      "Epoch 25, CIFAR-10 Batch 1:  Accuracy:  0.9000000357627869         Cost:  0.29884180426597595\n",
      "Epoch 25, CIFAR-10 Batch 2:  Accuracy:  0.9750000238418579         Cost:  0.1402457058429718\n",
      "Epoch 25, CIFAR-10 Batch 3:  Accuracy:  0.9749999642372131         Cost:  0.12866760790348053\n",
      "Epoch 25, CIFAR-10 Batch 4:  Accuracy:  0.9750000238418579         Cost:  0.1827581822872162\n",
      "Epoch 25, CIFAR-10 Batch 5:  Accuracy:  0.9750000238418579         Cost:  0.1343286633491516\n",
      "Epoch 26, CIFAR-10 Batch 1:  Accuracy:  1.0         Cost:  0.15183883905410767\n",
      "Epoch 26, CIFAR-10 Batch 2:  Accuracy:  0.949999988079071         Cost:  0.1675753891468048\n",
      "Epoch 26, CIFAR-10 Batch 3:  Accuracy:  0.9749999642372131         Cost:  0.16341176629066467\n",
      "Epoch 26, CIFAR-10 Batch 4:  Accuracy:  1.0         Cost:  0.11360357701778412\n",
      "Epoch 26, CIFAR-10 Batch 5:  Accuracy:  1.0         Cost:  0.09540046006441116\n",
      "Epoch 27, CIFAR-10 Batch 1:  Accuracy:  1.0         Cost:  0.15745636820793152\n",
      "Epoch 27, CIFAR-10 Batch 2:  Accuracy:  0.9000000357627869         Cost:  0.2424260377883911\n",
      "Epoch 27, CIFAR-10 Batch 3:  Accuracy:  1.0         Cost:  0.09088259935379028\n",
      "Epoch 27, CIFAR-10 Batch 4:  Accuracy:  1.0         Cost:  0.08993962407112122\n",
      "Epoch 27, CIFAR-10 Batch 5:  Accuracy:  1.0         Cost:  0.10912661999464035\n",
      "Epoch 28, CIFAR-10 Batch 1:  Accuracy:  1.0         Cost:  0.12573406100273132\n",
      "Epoch 28, CIFAR-10 Batch 2:  Accuracy:  0.9750000238418579         Cost:  0.0901065543293953\n",
      "Epoch 28, CIFAR-10 Batch 3:  Accuracy:  1.0         Cost:  0.06437084078788757\n",
      "Epoch 28, CIFAR-10 Batch 4:  Accuracy:  1.0         Cost:  0.07064282894134521\n",
      "Epoch 28, CIFAR-10 Batch 5:  Accuracy:  1.0         Cost:  0.05097382143139839\n",
      "Epoch 29, CIFAR-10 Batch 1:  Accuracy:  1.0         Cost:  0.10729463398456573\n",
      "Epoch 29, CIFAR-10 Batch 2:  Accuracy:  1.0         Cost:  0.08983967453241348\n",
      "Epoch 29, CIFAR-10 Batch 3:  Accuracy:  1.0         Cost:  0.0433511883020401\n",
      "Epoch 29, CIFAR-10 Batch 4:  Accuracy:  1.0         Cost:  0.045989833772182465\n",
      "Epoch 29, CIFAR-10 Batch 5:  Accuracy:  1.0         Cost:  0.052774347364902496\n",
      "Epoch 30, CIFAR-10 Batch 1:  Accuracy:  1.0         Cost:  0.09448108077049255\n",
      "Epoch 30, CIFAR-10 Batch 2:  Accuracy:  1.0         Cost:  0.06475391238927841\n",
      "Epoch 30, CIFAR-10 Batch 3:  Accuracy:  1.0         Cost:  0.03160107508301735\n",
      "Epoch 30, CIFAR-10 Batch 4:  Accuracy:  0.949999988079071         Cost:  0.21868747472763062\n",
      "Epoch 30, CIFAR-10 Batch 5:  Accuracy:  1.0         Cost:  0.018833212554454803\n"
     ]
    }
   ],
   "source": [
    "\"\"\"\n",
    "DON'T MODIFY ANYTHING IN THIS CELL\n",
    "\"\"\"\n",
    "save_model_path = './image_classification'\n",
    "\n",
    "print('Training...')\n",
    "with tf.Session() as sess:\n",
    "    # Initializing the variables\n",
    "    sess.run(tf.global_variables_initializer())\n",
    "    \n",
    "    # Training cycle\n",
    "    for epoch in range(epochs):\n",
    "        # Loop over all batches\n",
    "        n_batches = 5\n",
    "        for batch_i in range(1, n_batches + 1):\n",
    "            for batch_features, batch_labels in helper.load_preprocess_training_batch(batch_i, batch_size):\n",
    "                train_neural_network(sess, optimizer, keep_probability, batch_features, batch_labels)\n",
    "            print('Epoch {:>2}, CIFAR-10 Batch {}:  '.format(epoch + 1, batch_i), end='')\n",
    "            print_stats(sess, batch_features, batch_labels, cost, accuracy)\n",
    "            \n",
    "    # Save Model\n",
    "    saver = tf.train.Saver()\n",
    "    save_path = saver.save(sess, save_model_path)"
   ]
  },
  {
   "cell_type": "markdown",
   "metadata": {},
   "source": [
    "# Checkpoint\n",
    "The model has been saved to disk.\n",
    "## Test Model\n",
    "Test your model against the test dataset.  This will be your final accuracy. You should have an accuracy greater than 50%. If you don't, keep tweaking the model architecture and parameters."
   ]
  },
  {
   "cell_type": "code",
   "execution_count": 30,
   "metadata": {},
   "outputs": [
    {
     "name": "stdout",
     "output_type": "stream",
     "text": [
      "Testing Accuracy: 0.7189453125\n",
      "\n"
     ]
    },
    {
     "data": {
      "image/png": "[encoded data removed]",
      "text/plain": [
       "<matplotlib.figure.Figure at 0x2420845d470>"
      ]
     },
     "metadata": {
      "image/png": {
       "height": 319,
       "width": 355
      }
     },
     "output_type": "display_data"
    }
   ],
   "source": [
    "\"\"\"\n",
    "DON'T MODIFY ANYTHING IN THIS CELL\n",
    "\"\"\"\n",
    "%matplotlib inline\n",
    "%config InlineBackend.figure_format = 'retina'\n",
    "\n",
    "import tensorflow as tf\n",
    "import pickle\n",
    "import helper\n",
    "import random\n",
    "\n",
    "# Set batch size if not already set\n",
    "try:\n",
    "    if batch_size:\n",
    "        pass\n",
    "except NameError:\n",
    "    batch_size = 64\n",
    "\n",
    "save_model_path = './image_classification'\n",
    "n_samples = 4\n",
    "top_n_predictions = 3\n",
    "\n",
    "def test_model():\n",
    "    \"\"\"\n",
    "    Test the saved model against the test dataset\n",
    "    \"\"\"\n",
    "\n",
    "    test_features, test_labels = pickle.load(open('preprocess_training.p', mode='rb'))\n",
    "    loaded_graph = tf.Graph()\n",
    "\n",
    "    with tf.Session(graph=loaded_graph) as sess:\n",
    "        # Load model\n",
    "        loader = tf.train.import_meta_graph(save_model_path + '.meta')\n",
    "        loader.restore(sess, save_model_path)\n",
    "\n",
    "        # Get Tensors from loaded model\n",
    "        loaded_x = loaded_graph.get_tensor_by_name('x:0')\n",
    "        loaded_y = loaded_graph.get_tensor_by_name('y:0')\n",
    "        loaded_keep_prob = loaded_graph.get_tensor_by_name('keep_prob:0')\n",
    "        loaded_logits = loaded_graph.get_tensor_by_name('logits:0')\n",
    "        loaded_acc = loaded_graph.get_tensor_by_name('accuracy:0')\n",
    "        loaded_trainig = loaded_graph.get_tensor_by_name('training:0')\n",
    "        # Get accuracy in batches for memory limitations\n",
    "        test_batch_acc_total = 0\n",
    "        test_batch_count = 0\n",
    "        \n",
    "        for train_feature_batch, train_label_batch in helper.batch_features_labels(test_features, test_labels, batch_size):\n",
    "            test_batch_acc_total += sess.run(\n",
    "                loaded_acc,\n",
    "                feed_dict={loaded_x: train_feature_batch, loaded_y: train_label_batch, loaded_keep_prob: 1.0, loaded_trainig: False})\n",
    "            test_batch_count += 1\n",
    "\n",
    "        print('Testing Accuracy: {}\\n'.format(test_batch_acc_total/test_batch_count))\n",
    "\n",
    "        # Print Random Samples\n",
    "        random_test_features, random_test_labels = tuple(zip(*random.sample(list(zip(test_features, test_labels)), n_samples)))\n",
    "        random_test_predictions = sess.run(\n",
    "            tf.nn.top_k(tf.nn.softmax(loaded_logits), top_n_predictions),\n",
    "            feed_dict={loaded_x: random_test_features, loaded_y: random_test_labels, loaded_keep_prob: 1.0, loaded_trainig: False})\n",
    "        helper.display_image_predictions(random_test_features, random_test_labels, random_test_predictions)\n",
    "\n",
    "\n",
    "test_model()"
   ]
  },
  {
   "cell_type": "markdown",
   "metadata": {},
   "source": [
    "## Why 50-70% Accuracy?\n",
    "You might be wondering why you can't get an accuracy any higher. First things first, 50% isn't bad for a simple CNN.  Pure guessing would get you 10% accuracy. However, you might notice people are getting scores [well above 70%](http://rodrigob.github.io/are_we_there_yet/build/classification_datasets_results.html#43494641522d3130).  That's because we haven't taught you all there is to know about neural networks. We still need to cover a few more techniques.\n",
    "## Submitting This Project\n",
    "When submitting this project, make sure to run all the cells before saving the notebook.  Save the notebook file as \"dlnd_image_classification.ipynb\" and save it as a HTML file under \"File\" -> \"Download as\".  Include the \"helper.py\" and \"problem_unittests.py\" files in your submission."
   ]
  },
  {
   "cell_type": "code",
   "execution_count": null,
   "metadata": {
    "collapsed": true
   },
   "outputs": [],
   "source": []
  },
  {
   "cell_type": "code",
   "execution_count": null,
   "metadata": {
    "collapsed": true
   },
   "outputs": [],
   "source": []
  }
 ],
 "metadata": {
  "kernelspec": {
   "display_name": "Python [default]",
   "language": "python",
   "name": "python3"
  },
  "language_info": {
   "codemirror_mode": {
    "name": "ipython",
    "version": 3
   },
   "file_extension": ".py",
   "mimetype": "text/x-python",
   "name": "python",
   "nbconvert_exporter": "python",
   "pygments_lexer": "ipython3",
   "version": "3.5.3"
  }
 },
 "nbformat": 4,
 "nbformat_minor": 1
}
